{
 "cells": [
  {
   "cell_type": "code",
   "execution_count": null,
   "metadata": {},
   "outputs": [],
   "source": [
    "import matplotlib.pyplot as plt #importing matplotlib and numpy\n",
    "import numpy as np\n",
    "%matplotlib inline "
   ]
  },
  {
   "cell_type": "code",
   "execution_count": null,
   "metadata": {},
   "outputs": [],
   "source": [
    "x = np.linspace(0,2*np.pi,1000) #creating an array from 0 to 2pi with 1000 increments in between"
   ]
  },
  {
   "cell_type": "code",
   "execution_count": null,
   "metadata": {},
   "outputs": [],
   "source": [
    "f1 = 5.5*np.cos(2*x) +5.5 #first function\n",
    "f2 = 0.02*np.exp(x) #second function\n",
    "f3 = 0.25*x**2+0.1*np.sin(10*x) #third function\n",
    "plt.plot(x,f1) #setting up the first plot, plotting f1 against x\n",
    "plt.plot(x,f2) #second plot, f2 against x\n",
    "plt.plot(x,f3) #third plot, f3 against x\n",
    "plt.xlim([0,2*np.pi]) #setting x limit to be between 0 and 2pi\n",
    "plt.ylim([-1,10]) #setting y limit to be between -1 and 10\n",
    "plt.ylabel('Measures of Awesomeness') #creating a y label to be displayed on the graph\n",
    "plt.xlabel('Time in ASTR-119') #creating a x label to be displayed on the graph\n",
    "plt.show() #showing the graph with all three functions plotted within the x and y limits "
   ]
  },
  {
   "cell_type": "code",
   "execution_count": null,
   "metadata": {},
   "outputs": [],
   "source": []
  }
 ],
 "metadata": {
  "kernelspec": {
   "display_name": "Python 3",
   "language": "python",
   "name": "python3"
  },
  "language_info": {
   "codemirror_mode": {
    "name": "ipython",
    "version": 3
   },
   "file_extension": ".py",
   "mimetype": "text/x-python",
   "name": "python",
   "nbconvert_exporter": "python",
   "pygments_lexer": "ipython3",
   "version": "3.8.3"
  }
 },
 "nbformat": 4,
 "nbformat_minor": 4
}
